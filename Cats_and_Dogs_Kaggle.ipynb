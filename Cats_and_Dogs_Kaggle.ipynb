{
  "nbformat": 4,
  "nbformat_minor": 0,
  "metadata": {
    "colab": {
      "name": "Cats and Dogs Kaggle.ipynb",
      "provenance": []
    },
    "kernelspec": {
      "name": "python3",
      "display_name": "Python 3"
    },
    "accelerator": "GPU"
  },
  "cells": [
    {
      "cell_type": "markdown",
      "metadata": {
        "id": "_yeEBEHPOzWd",
        "colab_type": "text"
      },
      "source": [
        "Dataset Link [Cat and Dog](https://www.kaggle.com/tongpython/cat-and-dog)"
      ]
    },
    {
      "cell_type": "code",
      "metadata": {
        "id": "dieou7zbLdV5",
        "colab_type": "code",
        "colab": {}
      },
      "source": [
        "!pip install kaggle"
      ],
      "execution_count": 0,
      "outputs": []
    },
    {
      "cell_type": "code",
      "metadata": {
        "id": "fICSRa_1L_PP",
        "colab_type": "code",
        "colab": {}
      },
      "source": [
        "from google.colab import files\n",
        "files.upload()"
      ],
      "execution_count": 0,
      "outputs": []
    },
    {
      "cell_type": "code",
      "metadata": {
        "id": "Td0_xXKpMBXX",
        "colab_type": "code",
        "colab": {}
      },
      "source": [
        "!mkdir -p ~/.kaggle\n",
        "!cp kaggle.json ~/.kaggle/\n",
        "!chmod 600 ~/.kaggle/kaggle.json"
      ],
      "execution_count": 0,
      "outputs": []
    },
    {
      "cell_type": "markdown",
      "metadata": {
        "id": "Hs6yKyCETnMI",
        "colab_type": "text"
      },
      "source": [
        "**Importing all libraries**"
      ]
    },
    {
      "cell_type": "code",
      "metadata": {
        "id": "gN25Z21xMS_c",
        "colab_type": "code",
        "outputId": "62d38d00-c5fc-453d-c3b3-84587df2349d",
        "colab": {
          "base_uri": "https://localhost:8080/",
          "height": 50
        }
      },
      "source": [
        "import os \n",
        "import zipfile \n",
        "import tensorflow as tf\n",
        "from tensorflow import keras\n",
        "from keras import preprocessing\n",
        "import matplotlib.pyplot as plt\n",
        "from tensorflow.keras.optimizers import RMSprop\n",
        "from tensorflow.keras.preprocessing.image import ImageDataGenerator\n",
        "print(tf.__version__)"
      ],
      "execution_count": 1,
      "outputs": [
        {
          "output_type": "stream",
          "text": [
            "2.2.0\n"
          ],
          "name": "stdout"
        },
        {
          "output_type": "stream",
          "text": [
            "Using TensorFlow backend.\n"
          ],
          "name": "stderr"
        }
      ]
    },
    {
      "cell_type": "markdown",
      "metadata": {
        "id": "alwz3em7UgtE",
        "colab_type": "text"
      },
      "source": [
        "**Download Dataset**"
      ]
    },
    {
      "cell_type": "code",
      "metadata": {
        "id": "9YilsIOBMeVU",
        "colab_type": "code",
        "colab": {}
      },
      "source": [
        "!kaggle datasets download -d tongpython/cat-and-dog"
      ],
      "execution_count": 0,
      "outputs": []
    },
    {
      "cell_type": "markdown",
      "metadata": {
        "id": "39iAPYQbUlSj",
        "colab_type": "text"
      },
      "source": [
        "**Unzip dataset**"
      ]
    },
    {
      "cell_type": "code",
      "metadata": {
        "id": "QaDlBkapMqQX",
        "colab_type": "code",
        "colab": {}
      },
      "source": [
        "local_dir='/content/cat-and-dog.zip'\n",
        "zip_ref=zipfile.ZipFile(local_dir,'r')\n",
        "zip_ref.extractall('/tmp')\n",
        "zip_ref.close"
      ],
      "execution_count": 0,
      "outputs": []
    },
    {
      "cell_type": "code",
      "metadata": {
        "id": "e0EhtIgCM0bD",
        "colab_type": "code",
        "colab": {}
      },
      "source": [
        "train_dir=os.path.join('/tmp/training_set/training_set')\n",
        "validation_dir=os.path.join('/tmp/test_set/test_set')"
      ],
      "execution_count": 0,
      "outputs": []
    },
    {
      "cell_type": "markdown",
      "metadata": {
        "id": "_Qi06tYRT3rl",
        "colab_type": "text"
      },
      "source": [
        "**Build the CNN model & Compile the model**"
      ]
    },
    {
      "cell_type": "code",
      "metadata": {
        "id": "rcd_KfObNRjo",
        "colab_type": "code",
        "outputId": "1dda24c3-6286-4b78-97dc-9e2e22626357",
        "colab": {
          "base_uri": "https://localhost:8080/",
          "height": 655
        }
      },
      "source": [
        "\n",
        "model=keras.models.Sequential([\n",
        "                               keras.layers.Conv2D(32,(3,3),activation='relu',padding='valid',input_shape=(150,150,3)),\n",
        "                               keras.layers.MaxPool2D(pool_size=(2,2)),\n",
        "                               keras.layers.Conv2D(64,(3,2),activation='relu',padding='valid'),\n",
        "                               keras.layers.MaxPool2D(pool_size=(2,2)),\n",
        "                               keras.layers.Conv2D(128,(3,3),activation='relu',padding='valid'),\n",
        "                               keras.layers.MaxPool2D(pool_size=(2,2)),\n",
        "                               keras.layers.Conv2D(256,(3,3),activation='relu',padding='valid'),\n",
        "                               keras.layers.MaxPool2D(pool_size=(2,2)),\n",
        "                               #keras.layers.Conv2D(512,(3,3),activation='relu',padding='valid'),\n",
        "                               #keras.layers.MaxPool2D(pool_size=(2,2)),\n",
        "                               \n",
        "                              \n",
        "                           \n",
        "                              tf.keras.layers.Dropout(0.5),\n",
        "                               \n",
        "                               \n",
        "                               keras.layers.Flatten(),\n",
        "                               keras.layers.Dense(units=512,activation=tf.nn.relu),\n",
        "                               \n",
        "                               keras.layers.Dense(units=256,activation=tf.nn.relu),\n",
        "                               \n",
        "                               keras.layers.Dense(units=128,activation=tf.nn.relu),\n",
        "                               \n",
        "                               keras.layers.Dense(units=64,activation=tf.nn.relu),\n",
        "                               \n",
        "                               \n",
        "                               keras.layers.Dense(units=1,activation=tf.nn.sigmoid)\n",
        "])\n",
        "\n",
        "model.compile(loss='binary_crossentropy',\n",
        "              optimizer=RMSprop(lr=1e-4),\n",
        "              metrics=['accuracy'])\n",
        "\n",
        "\n",
        "model.summary()"
      ],
      "execution_count": 4,
      "outputs": [
        {
          "output_type": "stream",
          "text": [
            "Model: \"sequential\"\n",
            "_________________________________________________________________\n",
            "Layer (type)                 Output Shape              Param #   \n",
            "=================================================================\n",
            "conv2d (Conv2D)              (None, 148, 148, 32)      896       \n",
            "_________________________________________________________________\n",
            "max_pooling2d (MaxPooling2D) (None, 74, 74, 32)        0         \n",
            "_________________________________________________________________\n",
            "conv2d_1 (Conv2D)            (None, 72, 73, 64)        12352     \n",
            "_________________________________________________________________\n",
            "max_pooling2d_1 (MaxPooling2 (None, 36, 36, 64)        0         \n",
            "_________________________________________________________________\n",
            "conv2d_2 (Conv2D)            (None, 34, 34, 128)       73856     \n",
            "_________________________________________________________________\n",
            "max_pooling2d_2 (MaxPooling2 (None, 17, 17, 128)       0         \n",
            "_________________________________________________________________\n",
            "conv2d_3 (Conv2D)            (None, 15, 15, 256)       295168    \n",
            "_________________________________________________________________\n",
            "max_pooling2d_3 (MaxPooling2 (None, 7, 7, 256)         0         \n",
            "_________________________________________________________________\n",
            "dropout (Dropout)            (None, 7, 7, 256)         0         \n",
            "_________________________________________________________________\n",
            "flatten (Flatten)            (None, 12544)             0         \n",
            "_________________________________________________________________\n",
            "dense (Dense)                (None, 512)               6423040   \n",
            "_________________________________________________________________\n",
            "dense_1 (Dense)              (None, 256)               131328    \n",
            "_________________________________________________________________\n",
            "dense_2 (Dense)              (None, 128)               32896     \n",
            "_________________________________________________________________\n",
            "dense_3 (Dense)              (None, 64)                8256      \n",
            "_________________________________________________________________\n",
            "dense_4 (Dense)              (None, 1)                 65        \n",
            "=================================================================\n",
            "Total params: 6,977,857\n",
            "Trainable params: 6,977,857\n",
            "Non-trainable params: 0\n",
            "_________________________________________________________________\n"
          ],
          "name": "stdout"
        }
      ]
    },
    {
      "cell_type": "markdown",
      "metadata": {
        "id": "NWp4JoLHUOUr",
        "colab_type": "text"
      },
      "source": [
        "**image preprocessing**"
      ]
    },
    {
      "cell_type": "code",
      "metadata": {
        "id": "zCMJ3CL5Nkwy",
        "colab_type": "code",
        "outputId": "b6054025-cdd4-4759-cbcc-a3866a3fa9dd",
        "colab": {
          "base_uri": "https://localhost:8080/",
          "height": 50
        }
      },
      "source": [
        "train_data_generator=ImageDataGenerator(\n",
        "      rescale=1./255,\n",
        "      rotation_range=40,\n",
        "      width_shift_range=0.2,\n",
        "      height_shift_range=0.2,\n",
        "      shear_range=0.2,\n",
        "      zoom_range=0.2,\n",
        "      horizontal_flip=True,\n",
        "      fill_mode='nearest')\n",
        "validation_data_generator=ImageDataGenerator(\n",
        "     rescale=1./255\n",
        ")\n",
        "train_generator = train_data_generator.flow_from_directory(train_dir,\n",
        "                                                    batch_size=160,\n",
        "                                                    class_mode='binary',\n",
        "                                                    target_size=(150,150)) \n",
        "validation_generator =validation_data_generator.flow_from_directory(validation_dir,\n",
        "                                                         batch_size=80,\n",
        "                                                         class_mode  = 'binary',\n",
        "                                                         target_size = (150,150))"
      ],
      "execution_count": 5,
      "outputs": [
        {
          "output_type": "stream",
          "text": [
            "Found 8005 images belonging to 2 classes.\n",
            "Found 2023 images belonging to 2 classes.\n"
          ],
          "name": "stdout"
        }
      ]
    },
    {
      "cell_type": "markdown",
      "metadata": {
        "id": "GHwEwyZ9URUy",
        "colab_type": "text"
      },
      "source": [
        "**Fit the model on images**"
      ]
    },
    {
      "cell_type": "code",
      "metadata": {
        "id": "v4P4tGkLNu0w",
        "colab_type": "code",
        "outputId": "bfca57ff-6071-4f46-c07f-53076ebea72d",
        "colab": {
          "base_uri": "https://localhost:8080/",
          "height": 1000
        }
      },
      "source": [
        "history = model.fit(train_generator,\n",
        "                              validation_data=validation_generator,\n",
        "                              steps_per_epoch=50,\n",
        "                              epochs=100,\n",
        "                              validation_steps=25,\n",
        "                              verbose=1)"
      ],
      "execution_count": 6,
      "outputs": [
        {
          "output_type": "stream",
          "text": [
            "Epoch 1/100\n",
            "50/50 [==============================] - 56s 1s/step - loss: 0.6920 - accuracy: 0.5165 - val_loss: 0.6962 - val_accuracy: 0.4990\n",
            "Epoch 2/100\n",
            "50/50 [==============================] - 57s 1s/step - loss: 0.6790 - accuracy: 0.5694 - val_loss: 0.6909 - val_accuracy: 0.5330\n",
            "Epoch 3/100\n",
            "50/50 [==============================] - 57s 1s/step - loss: 0.6673 - accuracy: 0.5894 - val_loss: 0.6787 - val_accuracy: 0.5660\n",
            "Epoch 4/100\n",
            "50/50 [==============================] - 57s 1s/step - loss: 0.6589 - accuracy: 0.6045 - val_loss: 0.6943 - val_accuracy: 0.5625\n",
            "Epoch 5/100\n",
            "50/50 [==============================] - 57s 1s/step - loss: 0.6468 - accuracy: 0.6180 - val_loss: 0.6123 - val_accuracy: 0.6595\n",
            "Epoch 6/100\n",
            "50/50 [==============================] - 57s 1s/step - loss: 0.6335 - accuracy: 0.6465 - val_loss: 0.6494 - val_accuracy: 0.6140\n",
            "Epoch 7/100\n",
            "50/50 [==============================] - 57s 1s/step - loss: 0.6210 - accuracy: 0.6528 - val_loss: 0.5941 - val_accuracy: 0.6680\n",
            "Epoch 8/100\n",
            "50/50 [==============================] - 57s 1s/step - loss: 0.6173 - accuracy: 0.6583 - val_loss: 0.5571 - val_accuracy: 0.7110\n",
            "Epoch 9/100\n",
            "50/50 [==============================] - 57s 1s/step - loss: 0.6004 - accuracy: 0.6732 - val_loss: 0.5698 - val_accuracy: 0.6950\n",
            "Epoch 10/100\n",
            "50/50 [==============================] - 57s 1s/step - loss: 0.5955 - accuracy: 0.6778 - val_loss: 0.5659 - val_accuracy: 0.7070\n",
            "Epoch 11/100\n",
            "50/50 [==============================] - 57s 1s/step - loss: 0.5865 - accuracy: 0.6844 - val_loss: 0.5292 - val_accuracy: 0.7365\n",
            "Epoch 12/100\n",
            "50/50 [==============================] - 57s 1s/step - loss: 0.5730 - accuracy: 0.6985 - val_loss: 0.5226 - val_accuracy: 0.7410\n",
            "Epoch 13/100\n",
            "50/50 [==============================] - 57s 1s/step - loss: 0.5768 - accuracy: 0.6920 - val_loss: 0.5259 - val_accuracy: 0.7305\n",
            "Epoch 14/100\n",
            "50/50 [==============================] - 57s 1s/step - loss: 0.5735 - accuracy: 0.6943 - val_loss: 0.5077 - val_accuracy: 0.7475\n",
            "Epoch 15/100\n",
            "50/50 [==============================] - 56s 1s/step - loss: 0.5628 - accuracy: 0.7039 - val_loss: 0.5125 - val_accuracy: 0.7405\n",
            "Epoch 16/100\n",
            "50/50 [==============================] - 56s 1s/step - loss: 0.5623 - accuracy: 0.7040 - val_loss: 0.5384 - val_accuracy: 0.7175\n",
            "Epoch 17/100\n",
            "50/50 [==============================] - 57s 1s/step - loss: 0.5539 - accuracy: 0.7098 - val_loss: 0.4955 - val_accuracy: 0.7605\n",
            "Epoch 18/100\n",
            "50/50 [==============================] - 56s 1s/step - loss: 0.5558 - accuracy: 0.7089 - val_loss: 0.4946 - val_accuracy: 0.7610\n",
            "Epoch 19/100\n",
            "50/50 [==============================] - 56s 1s/step - loss: 0.5520 - accuracy: 0.7140 - val_loss: 0.4973 - val_accuracy: 0.7535\n",
            "Epoch 20/100\n",
            "50/50 [==============================] - 57s 1s/step - loss: 0.5395 - accuracy: 0.7261 - val_loss: 0.4940 - val_accuracy: 0.7575\n",
            "Epoch 21/100\n",
            "50/50 [==============================] - 56s 1s/step - loss: 0.5422 - accuracy: 0.7230 - val_loss: 0.4827 - val_accuracy: 0.7665\n",
            "Epoch 22/100\n",
            "50/50 [==============================] - 56s 1s/step - loss: 0.5391 - accuracy: 0.7291 - val_loss: 0.4895 - val_accuracy: 0.7620\n",
            "Epoch 23/100\n",
            "50/50 [==============================] - 57s 1s/step - loss: 0.5340 - accuracy: 0.7301 - val_loss: 0.4906 - val_accuracy: 0.7490\n",
            "Epoch 24/100\n",
            "50/50 [==============================] - 57s 1s/step - loss: 0.5330 - accuracy: 0.7271 - val_loss: 0.4783 - val_accuracy: 0.7690\n",
            "Epoch 25/100\n",
            "50/50 [==============================] - 57s 1s/step - loss: 0.5262 - accuracy: 0.7333 - val_loss: 0.4592 - val_accuracy: 0.7840\n",
            "Epoch 26/100\n",
            "50/50 [==============================] - 57s 1s/step - loss: 0.5154 - accuracy: 0.7355 - val_loss: 0.4529 - val_accuracy: 0.7900\n",
            "Epoch 27/100\n",
            "50/50 [==============================] - 56s 1s/step - loss: 0.5167 - accuracy: 0.7407 - val_loss: 0.4470 - val_accuracy: 0.7860\n",
            "Epoch 28/100\n",
            "50/50 [==============================] - 57s 1s/step - loss: 0.5189 - accuracy: 0.7379 - val_loss: 0.5001 - val_accuracy: 0.7420\n",
            "Epoch 29/100\n",
            "50/50 [==============================] - 56s 1s/step - loss: 0.5101 - accuracy: 0.7467 - val_loss: 0.4372 - val_accuracy: 0.7990\n",
            "Epoch 30/100\n",
            "50/50 [==============================] - 57s 1s/step - loss: 0.5025 - accuracy: 0.7490 - val_loss: 0.4475 - val_accuracy: 0.7825\n",
            "Epoch 31/100\n",
            "50/50 [==============================] - 56s 1s/step - loss: 0.5126 - accuracy: 0.7444 - val_loss: 0.4269 - val_accuracy: 0.7985\n",
            "Epoch 32/100\n",
            "50/50 [==============================] - 56s 1s/step - loss: 0.4935 - accuracy: 0.7597 - val_loss: 0.4638 - val_accuracy: 0.7765\n",
            "Epoch 33/100\n",
            "50/50 [==============================] - 56s 1s/step - loss: 0.5026 - accuracy: 0.7495 - val_loss: 0.5314 - val_accuracy: 0.7165\n",
            "Epoch 34/100\n",
            "50/50 [==============================] - 56s 1s/step - loss: 0.4959 - accuracy: 0.7587 - val_loss: 0.4635 - val_accuracy: 0.7745\n",
            "Epoch 35/100\n",
            "50/50 [==============================] - 56s 1s/step - loss: 0.4965 - accuracy: 0.7620 - val_loss: 0.4308 - val_accuracy: 0.7935\n",
            "Epoch 36/100\n",
            "50/50 [==============================] - 57s 1s/step - loss: 0.4952 - accuracy: 0.7563 - val_loss: 0.5450 - val_accuracy: 0.7250\n",
            "Epoch 37/100\n",
            "50/50 [==============================] - 56s 1s/step - loss: 0.4869 - accuracy: 0.7600 - val_loss: 0.4118 - val_accuracy: 0.8070\n",
            "Epoch 38/100\n",
            "50/50 [==============================] - 56s 1s/step - loss: 0.4865 - accuracy: 0.7648 - val_loss: 0.4109 - val_accuracy: 0.8130\n",
            "Epoch 39/100\n",
            "50/50 [==============================] - 56s 1s/step - loss: 0.4819 - accuracy: 0.7646 - val_loss: 0.4155 - val_accuracy: 0.8050\n",
            "Epoch 40/100\n",
            "50/50 [==============================] - 56s 1s/step - loss: 0.4775 - accuracy: 0.7675 - val_loss: 0.4533 - val_accuracy: 0.7765\n",
            "Epoch 41/100\n",
            "50/50 [==============================] - 56s 1s/step - loss: 0.4737 - accuracy: 0.7745 - val_loss: 0.5412 - val_accuracy: 0.7320\n",
            "Epoch 42/100\n",
            "50/50 [==============================] - 56s 1s/step - loss: 0.4695 - accuracy: 0.7773 - val_loss: 0.4944 - val_accuracy: 0.7540\n",
            "Epoch 43/100\n",
            "50/50 [==============================] - 56s 1s/step - loss: 0.4682 - accuracy: 0.7759 - val_loss: 0.4295 - val_accuracy: 0.7915\n",
            "Epoch 44/100\n",
            "50/50 [==============================] - 56s 1s/step - loss: 0.4695 - accuracy: 0.7754 - val_loss: 0.3933 - val_accuracy: 0.8150\n",
            "Epoch 45/100\n",
            "50/50 [==============================] - 56s 1s/step - loss: 0.4656 - accuracy: 0.7750 - val_loss: 0.4200 - val_accuracy: 0.8080\n",
            "Epoch 46/100\n",
            "50/50 [==============================] - 56s 1s/step - loss: 0.4613 - accuracy: 0.7748 - val_loss: 0.4051 - val_accuracy: 0.8055\n",
            "Epoch 47/100\n",
            "50/50 [==============================] - 57s 1s/step - loss: 0.4594 - accuracy: 0.7753 - val_loss: 0.4772 - val_accuracy: 0.7585\n",
            "Epoch 48/100\n",
            "50/50 [==============================] - 58s 1s/step - loss: 0.4603 - accuracy: 0.7781 - val_loss: 0.4499 - val_accuracy: 0.7765\n",
            "Epoch 49/100\n",
            "50/50 [==============================] - 57s 1s/step - loss: 0.4696 - accuracy: 0.7711 - val_loss: 0.4149 - val_accuracy: 0.8030\n",
            "Epoch 50/100\n",
            "50/50 [==============================] - 56s 1s/step - loss: 0.4498 - accuracy: 0.7876 - val_loss: 0.3910 - val_accuracy: 0.8195\n",
            "Epoch 51/100\n",
            "50/50 [==============================] - 56s 1s/step - loss: 0.4630 - accuracy: 0.7778 - val_loss: 0.4002 - val_accuracy: 0.8175\n",
            "Epoch 52/100\n",
            "50/50 [==============================] - 57s 1s/step - loss: 0.4552 - accuracy: 0.7799 - val_loss: 0.3879 - val_accuracy: 0.8115\n",
            "Epoch 53/100\n",
            "50/50 [==============================] - 56s 1s/step - loss: 0.4494 - accuracy: 0.7834 - val_loss: 0.3920 - val_accuracy: 0.8150\n",
            "Epoch 54/100\n",
            "50/50 [==============================] - 57s 1s/step - loss: 0.4424 - accuracy: 0.7916 - val_loss: 0.4061 - val_accuracy: 0.8045\n",
            "Epoch 55/100\n",
            "50/50 [==============================] - 57s 1s/step - loss: 0.4429 - accuracy: 0.7930 - val_loss: 0.4701 - val_accuracy: 0.7790\n",
            "Epoch 56/100\n",
            "50/50 [==============================] - 56s 1s/step - loss: 0.4425 - accuracy: 0.7938 - val_loss: 0.3749 - val_accuracy: 0.8285\n",
            "Epoch 57/100\n",
            "50/50 [==============================] - 57s 1s/step - loss: 0.4375 - accuracy: 0.7895 - val_loss: 0.3723 - val_accuracy: 0.8305\n",
            "Epoch 58/100\n",
            "50/50 [==============================] - 56s 1s/step - loss: 0.4368 - accuracy: 0.7958 - val_loss: 0.3817 - val_accuracy: 0.8235\n",
            "Epoch 59/100\n",
            "50/50 [==============================] - 56s 1s/step - loss: 0.4451 - accuracy: 0.7973 - val_loss: 0.3699 - val_accuracy: 0.8305\n",
            "Epoch 60/100\n",
            "50/50 [==============================] - 56s 1s/step - loss: 0.4387 - accuracy: 0.7938 - val_loss: 0.3832 - val_accuracy: 0.8260\n",
            "Epoch 61/100\n",
            "50/50 [==============================] - 56s 1s/step - loss: 0.4336 - accuracy: 0.7996 - val_loss: 0.3541 - val_accuracy: 0.8435\n",
            "Epoch 62/100\n",
            "50/50 [==============================] - 57s 1s/step - loss: 0.4258 - accuracy: 0.8020 - val_loss: 0.3713 - val_accuracy: 0.8355\n",
            "Epoch 63/100\n",
            "50/50 [==============================] - 57s 1s/step - loss: 0.4224 - accuracy: 0.8027 - val_loss: 0.3513 - val_accuracy: 0.8415\n",
            "Epoch 64/100\n",
            "50/50 [==============================] - 56s 1s/step - loss: 0.4158 - accuracy: 0.8097 - val_loss: 0.3734 - val_accuracy: 0.8285\n",
            "Epoch 65/100\n",
            "50/50 [==============================] - 58s 1s/step - loss: 0.4111 - accuracy: 0.8101 - val_loss: 0.4315 - val_accuracy: 0.7895\n",
            "Epoch 66/100\n",
            "50/50 [==============================] - 56s 1s/step - loss: 0.4218 - accuracy: 0.8020 - val_loss: 0.3410 - val_accuracy: 0.8490\n",
            "Epoch 67/100\n",
            "50/50 [==============================] - 57s 1s/step - loss: 0.4198 - accuracy: 0.8046 - val_loss: 0.4599 - val_accuracy: 0.7870\n",
            "Epoch 68/100\n",
            "50/50 [==============================] - 57s 1s/step - loss: 0.4150 - accuracy: 0.8096 - val_loss: 0.3650 - val_accuracy: 0.8360\n",
            "Epoch 69/100\n",
            "50/50 [==============================] - 56s 1s/step - loss: 0.4125 - accuracy: 0.8084 - val_loss: 0.3409 - val_accuracy: 0.8450\n",
            "Epoch 70/100\n",
            "50/50 [==============================] - 56s 1s/step - loss: 0.4020 - accuracy: 0.8140 - val_loss: 0.3445 - val_accuracy: 0.8465\n",
            "Epoch 71/100\n",
            "50/50 [==============================] - 56s 1s/step - loss: 0.4149 - accuracy: 0.8116 - val_loss: 0.3367 - val_accuracy: 0.8510\n",
            "Epoch 72/100\n",
            "50/50 [==============================] - 57s 1s/step - loss: 0.4105 - accuracy: 0.8127 - val_loss: 0.3818 - val_accuracy: 0.8265\n",
            "Epoch 73/100\n",
            "50/50 [==============================] - 57s 1s/step - loss: 0.4055 - accuracy: 0.8141 - val_loss: 0.3370 - val_accuracy: 0.8495\n",
            "Epoch 74/100\n",
            "50/50 [==============================] - 56s 1s/step - loss: 0.4119 - accuracy: 0.8092 - val_loss: 0.3606 - val_accuracy: 0.8380\n",
            "Epoch 75/100\n",
            "50/50 [==============================] - 56s 1s/step - loss: 0.3992 - accuracy: 0.8153 - val_loss: 0.3793 - val_accuracy: 0.8165\n",
            "Epoch 76/100\n",
            "50/50 [==============================] - 57s 1s/step - loss: 0.3935 - accuracy: 0.8198 - val_loss: 0.4654 - val_accuracy: 0.7720\n",
            "Epoch 77/100\n",
            "50/50 [==============================] - 56s 1s/step - loss: 0.4061 - accuracy: 0.8194 - val_loss: 0.3545 - val_accuracy: 0.8455\n",
            "Epoch 78/100\n",
            "50/50 [==============================] - 57s 1s/step - loss: 0.3868 - accuracy: 0.8236 - val_loss: 0.3596 - val_accuracy: 0.8465\n",
            "Epoch 79/100\n",
            "50/50 [==============================] - 57s 1s/step - loss: 0.3967 - accuracy: 0.8173 - val_loss: 0.4273 - val_accuracy: 0.8110\n",
            "Epoch 80/100\n",
            "50/50 [==============================] - 56s 1s/step - loss: 0.3961 - accuracy: 0.8176 - val_loss: 0.4066 - val_accuracy: 0.8105\n",
            "Epoch 81/100\n",
            "50/50 [==============================] - 56s 1s/step - loss: 0.3843 - accuracy: 0.8266 - val_loss: 0.3599 - val_accuracy: 0.8435\n",
            "Epoch 82/100\n",
            "50/50 [==============================] - 56s 1s/step - loss: 0.3848 - accuracy: 0.8256 - val_loss: 0.5208 - val_accuracy: 0.7535\n",
            "Epoch 83/100\n",
            "50/50 [==============================] - 56s 1s/step - loss: 0.3912 - accuracy: 0.8203 - val_loss: 0.3174 - val_accuracy: 0.8535\n",
            "Epoch 84/100\n",
            "50/50 [==============================] - 57s 1s/step - loss: 0.3771 - accuracy: 0.8289 - val_loss: 0.3214 - val_accuracy: 0.8575\n",
            "Epoch 85/100\n",
            "50/50 [==============================] - 56s 1s/step - loss: 0.3672 - accuracy: 0.8311 - val_loss: 0.3264 - val_accuracy: 0.8495\n",
            "Epoch 86/100\n",
            "50/50 [==============================] - 56s 1s/step - loss: 0.3889 - accuracy: 0.8231 - val_loss: 0.3335 - val_accuracy: 0.8505\n",
            "Epoch 87/100\n",
            "50/50 [==============================] - 56s 1s/step - loss: 0.3759 - accuracy: 0.8283 - val_loss: 0.3394 - val_accuracy: 0.8410\n",
            "Epoch 88/100\n",
            "50/50 [==============================] - 57s 1s/step - loss: 0.3812 - accuracy: 0.8285 - val_loss: 0.3093 - val_accuracy: 0.8650\n",
            "Epoch 89/100\n",
            "50/50 [==============================] - 56s 1s/step - loss: 0.3731 - accuracy: 0.8321 - val_loss: 0.3130 - val_accuracy: 0.8615\n",
            "Epoch 90/100\n",
            "50/50 [==============================] - 57s 1s/step - loss: 0.3693 - accuracy: 0.8379 - val_loss: 0.3019 - val_accuracy: 0.8680\n",
            "Epoch 91/100\n",
            "50/50 [==============================] - 56s 1s/step - loss: 0.3767 - accuracy: 0.8286 - val_loss: 0.3274 - val_accuracy: 0.8550\n",
            "Epoch 92/100\n",
            "50/50 [==============================] - 57s 1s/step - loss: 0.3740 - accuracy: 0.8284 - val_loss: 0.3469 - val_accuracy: 0.8410\n",
            "Epoch 93/100\n",
            "50/50 [==============================] - 56s 1s/step - loss: 0.3635 - accuracy: 0.8353 - val_loss: 0.3093 - val_accuracy: 0.8645\n",
            "Epoch 94/100\n",
            "50/50 [==============================] - 56s 1s/step - loss: 0.3696 - accuracy: 0.8353 - val_loss: 0.3053 - val_accuracy: 0.8650\n",
            "Epoch 95/100\n",
            "50/50 [==============================] - 56s 1s/step - loss: 0.3589 - accuracy: 0.8371 - val_loss: 0.3161 - val_accuracy: 0.8650\n",
            "Epoch 96/100\n",
            "50/50 [==============================] - 56s 1s/step - loss: 0.3544 - accuracy: 0.8445 - val_loss: 0.3571 - val_accuracy: 0.8430\n",
            "Epoch 97/100\n",
            "50/50 [==============================] - 57s 1s/step - loss: 0.3563 - accuracy: 0.8461 - val_loss: 0.3706 - val_accuracy: 0.8290\n",
            "Epoch 98/100\n",
            "50/50 [==============================] - 56s 1s/step - loss: 0.3560 - accuracy: 0.8428 - val_loss: 0.3165 - val_accuracy: 0.8625\n",
            "Epoch 99/100\n",
            "50/50 [==============================] - 56s 1s/step - loss: 0.3482 - accuracy: 0.8468 - val_loss: 0.4380 - val_accuracy: 0.7980\n",
            "Epoch 100/100\n",
            "50/50 [==============================] - 57s 1s/step - loss: 0.3499 - accuracy: 0.8422 - val_loss: 0.3080 - val_accuracy: 0.8645\n"
          ],
          "name": "stdout"
        }
      ]
    },
    {
      "cell_type": "markdown",
      "metadata": {
        "id": "9pjcs9OZUXJq",
        "colab_type": "text"
      },
      "source": [
        "**Training and validation accuracy & loss**"
      ]
    },
    {
      "cell_type": "code",
      "metadata": {
        "id": "jFwb0CpiNxFi",
        "colab_type": "code",
        "outputId": "d73f98d5-a48d-446d-e92f-207e58c4534b",
        "colab": {
          "base_uri": "https://localhost:8080/",
          "height": 545
        }
      },
      "source": [
        "acc = history.history['accuracy']\n",
        "val_acc = history.history['val_accuracy']\n",
        "loss = history.history['loss']\n",
        "val_loss = history.history['val_loss']\n",
        "\n",
        "epochs = range(len(acc))\n",
        "\n",
        "plt.plot(epochs, acc,  label='Training accuracy')\n",
        "plt.plot(epochs, val_acc, label='Validation accuracy')\n",
        "plt.title('Training and validation accuracy')\n",
        "\n",
        "plt.figure()\n",
        "\n",
        "plt.plot(epochs, loss,  label='Training Loss')\n",
        "plt.plot(epochs, val_loss,  label='Validation Loss')\n",
        "plt.title('Training and validation loss')\n",
        "plt.legend()\n",
        "\n",
        "plt.show()"
      ],
      "execution_count": 7,
      "outputs": [
        {
          "output_type": "display_data",
          "data": {
            "image/png": "[encoded data removed]",
            "text/plain": [
              "<Figure size 432x288 with 1 Axes>"
            ]
          },
          "metadata": {
            "tags": [],
            "needs_background": "light"
          }
        },
        {
          "output_type": "display_data",
          "data": {
            "image/png": "[encoded data removed]",
            "text/plain": [
              "<Figure size 432x288 with 1 Axes>"
            ]
          },
          "metadata": {
            "tags": [],
            "needs_background": "light"
          }
        }
      ]
    }
  ]
}