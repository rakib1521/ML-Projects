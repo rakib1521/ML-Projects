{
  "nbformat": 4,
  "nbformat_minor": 0,
  "metadata": {
    "colab": {
      "name": "dog vs cat New .ipynb",
      "provenance": []
    },
    "kernelspec": {
      "name": "python3",
      "display_name": "Python 3"
    },
    "accelerator": "GPU"
  },
  "cells": [
    {
      "cell_type": "code",
      "metadata": {
        "id": "2uxrl0_4-t0a",
        "colab_type": "code",
        "outputId": "47c35d92-b383-4164-b3c5-52f4bc6b77c8",
        "colab": {
          "base_uri": "https://localhost:8080/",
          "height": 50
        }
      },
      "source": [
        "import os \n",
        "import zipfile \n",
        "import tensorflow as tf\n",
        "from tensorflow import keras\n",
        "from keras import preprocessing\n",
        "import matplotlib.pyplot as plt\n",
        "from tensorflow.keras.preprocessing.image import ImageDataGenerator\n",
        "print(tf.__version__)\n"
      ],
      "execution_count": 1,
      "outputs": [
        {
          "output_type": "stream",
          "text": [
            "2.2.0\n"
          ],
          "name": "stdout"
        },
        {
          "output_type": "stream",
          "text": [
            "Using TensorFlow backend.\n"
          ],
          "name": "stderr"
        }
      ]
    },
    {
      "cell_type": "code",
      "metadata": {
        "id": "O5S3Jhuu_Dhu",
        "colab_type": "code",
        "outputId": "f034f086-c6da-45ed-b5f4-9c0a1c9d2162",
        "colab": {
          "base_uri": "https://localhost:8080/",
          "height": 202
        }
      },
      "source": [
        "!wget --no-check-certificate \\\n",
        "    https://storage.googleapis.com/mledu-datasets/cats_and_dogs_filtered.zip \\\n",
        "    -O /tmp/cats_and_dogs_filtered.zip"
      ],
      "execution_count": 2,
      "outputs": [
        {
          "output_type": "stream",
          "text": [
            "--2020-06-13 22:21:16--  https://storage.googleapis.com/mledu-datasets/cats_and_dogs_filtered.zip\n",
            "Resolving storage.googleapis.com (storage.googleapis.com)... 74.125.142.128, 2607:f8b0:400e:c08::80\n",
            "Connecting to storage.googleapis.com (storage.googleapis.com)|74.125.142.128|:443... connected.\n",
            "HTTP request sent, awaiting response... 200 OK\n",
            "Length: 68606236 (65M) [application/zip]\n",
            "Saving to: ‘/tmp/cats_and_dogs_filtered.zip’\n",
            "\n",
            "/tmp/cats_and_dogs_ 100%[===================>]  65.43M  62.7MB/s    in 1.0s    \n",
            "\n",
            "2020-06-13 22:21:17 (62.7 MB/s) - ‘/tmp/cats_and_dogs_filtered.zip’ saved [68606236/68606236]\n",
            "\n"
          ],
          "name": "stdout"
        }
      ]
    },
    {
      "cell_type": "code",
      "metadata": {
        "id": "8ln2jdt3AaiK",
        "colab_type": "code",
        "outputId": "93fc55c9-ee75-45db-975f-a5b576d5f022",
        "colab": {
          "base_uri": "https://localhost:8080/",
          "height": 34
        }
      },
      "source": [
        "local_dir='/tmp/cats_and_dogs_filtered.zip'\n",
        "zip_ref=zipfile.ZipFile(local_dir,'r')\n",
        "zip_ref.extractall('/tmp')\n",
        "zip_ref.close"
      ],
      "execution_count": 3,
      "outputs": [
        {
          "output_type": "execute_result",
          "data": {
            "text/plain": [
              "<bound method ZipFile.close of <zipfile.ZipFile filename='/tmp/cats_and_dogs_filtered.zip' mode='r'>>"
            ]
          },
          "metadata": {
            "tags": []
          },
          "execution_count": 3
        }
      ]
    },
    {
      "cell_type": "code",
      "metadata": {
        "id": "DUKZs09PAqGs",
        "colab_type": "code",
        "colab": {}
      },
      "source": [
        "train_dir=os.path.join('/tmp/cats_and_dogs_filtered/train')\n",
        "validation_dir=os.path.join('/tmp/cats_and_dogs_filtered/validation')"
      ],
      "execution_count": 0,
      "outputs": []
    },
    {
      "cell_type": "code",
      "metadata": {
        "id": "VcCCvFluCI4l",
        "colab_type": "code",
        "outputId": "583a7caf-8fdb-4e7b-e8d7-2ad119acc4b9",
        "colab": {
          "base_uri": "https://localhost:8080/",
          "height": 663
        }
      },
      "source": [
        "\n",
        "model=keras.models.Sequential([\n",
        "                               keras.layers.Conv2D(32,(3,3),activation='relu',padding='valid',input_shape=(150,150,3)),\n",
        "                               keras.layers.MaxPool2D(pool_size=(2,2)),\n",
        "                               keras.layers.Conv2D(64,(3,2),activation='relu',padding='valid'),\n",
        "                               keras.layers.MaxPool2D(pool_size=(2,2)),\n",
        "                               keras.layers.Conv2D(128,(3,3),activation='relu',padding='valid'),\n",
        "                               keras.layers.MaxPool2D(pool_size=(2,2)),\n",
        "                               keras.layers.Conv2D(256,(3,3),activation='relu',padding='valid'),\n",
        "                               keras.layers.MaxPool2D(pool_size=(2,2)),\n",
        "                               keras.layers.Conv2D(512,(3,3),activation='relu',padding='valid'),\n",
        "                               keras.layers.MaxPool2D(pool_size=(2,2)),\n",
        "                               \n",
        "                              \n",
        "                           \n",
        "                              \n",
        "                               \n",
        "                               \n",
        "                               keras.layers.Flatten(),\n",
        "                               keras.layers.Dense(units=512,activation=tf.nn.relu),\n",
        "                               keras.layers.Dense(units=256,activation=tf.nn.relu),\n",
        "                               keras.layers.Dense(units=128,activation=tf.nn.relu),\n",
        "                               \n",
        "                               \n",
        "                               keras.layers.Dense(units=1,activation=tf.nn.sigmoid)\n",
        "])\n",
        "\n",
        "model.compile(optimizer = tf.optimizers.Adam(),\n",
        "              loss='binary_crossentropy',\n",
        "              metrics=['accuracy'])\n",
        "\n",
        "model.summary()"
      ],
      "execution_count": 5,
      "outputs": [
        {
          "output_type": "stream",
          "text": [
            "Model: \"sequential\"\n",
            "_________________________________________________________________\n",
            "Layer (type)                 Output Shape              Param #   \n",
            "=================================================================\n",
            "conv2d (Conv2D)              (None, 148, 148, 32)      896       \n",
            "_________________________________________________________________\n",
            "max_pooling2d (MaxPooling2D) (None, 74, 74, 32)        0         \n",
            "_________________________________________________________________\n",
            "conv2d_1 (Conv2D)            (None, 72, 73, 64)        12352     \n",
            "_________________________________________________________________\n",
            "max_pooling2d_1 (MaxPooling2 (None, 36, 36, 64)        0         \n",
            "_________________________________________________________________\n",
            "conv2d_2 (Conv2D)            (None, 34, 34, 128)       73856     \n",
            "_________________________________________________________________\n",
            "max_pooling2d_2 (MaxPooling2 (None, 17, 17, 128)       0         \n",
            "_________________________________________________________________\n",
            "conv2d_3 (Conv2D)            (None, 15, 15, 256)       295168    \n",
            "_________________________________________________________________\n",
            "max_pooling2d_3 (MaxPooling2 (None, 7, 7, 256)         0         \n",
            "_________________________________________________________________\n",
            "conv2d_4 (Conv2D)            (None, 5, 5, 512)         1180160   \n",
            "_________________________________________________________________\n",
            "max_pooling2d_4 (MaxPooling2 (None, 2, 2, 512)         0         \n",
            "_________________________________________________________________\n",
            "flatten (Flatten)            (None, 2048)              0         \n",
            "_________________________________________________________________\n",
            "dense (Dense)                (None, 512)               1049088   \n",
            "_________________________________________________________________\n",
            "dense_1 (Dense)              (None, 256)               131328    \n",
            "_________________________________________________________________\n",
            "dense_2 (Dense)              (None, 128)               32896     \n",
            "_________________________________________________________________\n",
            "dense_3 (Dense)              (None, 1)                 129       \n",
            "=================================================================\n",
            "Total params: 2,775,873\n",
            "Trainable params: 2,775,873\n",
            "Non-trainable params: 0\n",
            "_________________________________________________________________\n"
          ],
          "name": "stdout"
        }
      ]
    },
    {
      "cell_type": "code",
      "metadata": {
        "id": "lfnT64PLfEiK",
        "colab_type": "code",
        "colab": {}
      },
      "source": [
        "train_data_generator=ImageDataGenerator(\n",
        "      rescale=1./255,\n",
        "      rotation_range=40,\n",
        "      width_shift_range=0.2,\n",
        "      height_shift_range=0.2,\n",
        "      shear_range=0.2,\n",
        "      zoom_range=0.2,\n",
        "      horizontal_flip=True,\n",
        "      fill_mode='nearest')\n",
        "validation_data_generator=ImageDataGenerator(\n",
        "     rescale=1./255\n",
        ")"
      ],
      "execution_count": 0,
      "outputs": []
    },
    {
      "cell_type": "code",
      "metadata": {
        "id": "0-VNOPN-Cmg8",
        "colab_type": "code",
        "outputId": "100be5a5-a3da-466e-d24e-016fdb17c262",
        "colab": {
          "base_uri": "https://localhost:8080/",
          "height": 51
        }
      },
      "source": [
        "train_generator = train_data_generator.flow_from_directory(train_dir,\n",
        "                                                    batch_size=20,\n",
        "                                                    class_mode='binary',\n",
        "                                                    target_size=(150,150)) \n",
        "validation_generator =validation_data_generator.flow_from_directory(validation_dir,\n",
        "                                                         batch_size=20,\n",
        "                                                         class_mode  = 'binary',\n",
        "                                                         target_size = (150,150))"
      ],
      "execution_count": 7,
      "outputs": [
        {
          "output_type": "stream",
          "text": [
            "Found 2000 images belonging to 2 classes.\n",
            "Found 1000 images belonging to 2 classes.\n"
          ],
          "name": "stdout"
        }
      ]
    },
    {
      "cell_type": "code",
      "metadata": {
        "id": "LIE8BC9dCuvK",
        "colab_type": "code",
        "outputId": "8df5332c-ffc5-4e31-bab0-f4deaba93fcf",
        "colab": {
          "base_uri": "https://localhost:8080/",
          "height": 1000
        }
      },
      "source": [
        "history = model.fit(train_generator,\n",
        "                              validation_data=validation_generator,\n",
        "                              steps_per_epoch=100,\n",
        "                              epochs=100,\n",
        "                              validation_steps=50,\n",
        "                              verbose=1)"
      ],
      "execution_count": 8,
      "outputs": [
        {
          "output_type": "stream",
          "text": [
            "Epoch 1/100\n",
            "100/100 [==============================] - 16s 163ms/step - loss: 0.6945 - accuracy: 0.5045 - val_loss: 0.6922 - val_accuracy: 0.5000\n",
            "Epoch 2/100\n",
            "100/100 [==============================] - 16s 162ms/step - loss: 0.6932 - accuracy: 0.5260 - val_loss: 0.6879 - val_accuracy: 0.5320\n",
            "Epoch 3/100\n",
            "100/100 [==============================] - 16s 161ms/step - loss: 0.6897 - accuracy: 0.5265 - val_loss: 0.6883 - val_accuracy: 0.5350\n",
            "Epoch 4/100\n",
            "100/100 [==============================] - 16s 161ms/step - loss: 0.6905 - accuracy: 0.5115 - val_loss: 0.6884 - val_accuracy: 0.5080\n",
            "Epoch 5/100\n",
            "100/100 [==============================] - 16s 162ms/step - loss: 0.6954 - accuracy: 0.5245 - val_loss: 0.7569 - val_accuracy: 0.5010\n",
            "Epoch 6/100\n",
            "100/100 [==============================] - 16s 164ms/step - loss: 0.6957 - accuracy: 0.5050 - val_loss: 0.6933 - val_accuracy: 0.5000\n",
            "Epoch 7/100\n",
            "100/100 [==============================] - 16s 163ms/step - loss: 0.6928 - accuracy: 0.5295 - val_loss: 0.6873 - val_accuracy: 0.5180\n",
            "Epoch 8/100\n",
            "100/100 [==============================] - 16s 161ms/step - loss: 0.6869 - accuracy: 0.5670 - val_loss: 0.6827 - val_accuracy: 0.5180\n",
            "Epoch 9/100\n",
            "100/100 [==============================] - 16s 161ms/step - loss: 0.6827 - accuracy: 0.5640 - val_loss: 0.6828 - val_accuracy: 0.5120\n",
            "Epoch 10/100\n",
            "100/100 [==============================] - 16s 161ms/step - loss: 0.6831 - accuracy: 0.5655 - val_loss: 0.6649 - val_accuracy: 0.6200\n",
            "Epoch 11/100\n",
            "100/100 [==============================] - 16s 163ms/step - loss: 0.6750 - accuracy: 0.5895 - val_loss: 0.6779 - val_accuracy: 0.5540\n",
            "Epoch 12/100\n",
            "100/100 [==============================] - 16s 161ms/step - loss: 0.6708 - accuracy: 0.5970 - val_loss: 0.6543 - val_accuracy: 0.6450\n",
            "Epoch 13/100\n",
            "100/100 [==============================] - 16s 162ms/step - loss: 0.6716 - accuracy: 0.5920 - val_loss: 0.6693 - val_accuracy: 0.6380\n",
            "Epoch 14/100\n",
            "100/100 [==============================] - 16s 162ms/step - loss: 0.6715 - accuracy: 0.5930 - val_loss: 0.6472 - val_accuracy: 0.6450\n",
            "Epoch 15/100\n",
            "100/100 [==============================] - 16s 161ms/step - loss: 0.6642 - accuracy: 0.5985 - val_loss: 0.6367 - val_accuracy: 0.6740\n",
            "Epoch 16/100\n",
            "100/100 [==============================] - 16s 162ms/step - loss: 0.6639 - accuracy: 0.6070 - val_loss: 0.6361 - val_accuracy: 0.6510\n",
            "Epoch 17/100\n",
            "100/100 [==============================] - 16s 160ms/step - loss: 0.6540 - accuracy: 0.6255 - val_loss: 0.6410 - val_accuracy: 0.6340\n",
            "Epoch 18/100\n",
            "100/100 [==============================] - 16s 162ms/step - loss: 0.6597 - accuracy: 0.6115 - val_loss: 0.6334 - val_accuracy: 0.6560\n",
            "Epoch 19/100\n",
            "100/100 [==============================] - 16s 161ms/step - loss: 0.6459 - accuracy: 0.6345 - val_loss: 0.6237 - val_accuracy: 0.6410\n",
            "Epoch 20/100\n",
            "100/100 [==============================] - 16s 162ms/step - loss: 0.6409 - accuracy: 0.6405 - val_loss: 0.6088 - val_accuracy: 0.6920\n",
            "Epoch 21/100\n",
            "100/100 [==============================] - 16s 162ms/step - loss: 0.6310 - accuracy: 0.6490 - val_loss: 0.5774 - val_accuracy: 0.7060\n",
            "Epoch 22/100\n",
            "100/100 [==============================] - 16s 161ms/step - loss: 0.6292 - accuracy: 0.6530 - val_loss: 0.6058 - val_accuracy: 0.6590\n",
            "Epoch 23/100\n",
            "100/100 [==============================] - 16s 161ms/step - loss: 0.6227 - accuracy: 0.6550 - val_loss: 0.5865 - val_accuracy: 0.6920\n",
            "Epoch 24/100\n",
            "100/100 [==============================] - 16s 162ms/step - loss: 0.6064 - accuracy: 0.6715 - val_loss: 0.5722 - val_accuracy: 0.6980\n",
            "Epoch 25/100\n",
            "100/100 [==============================] - 16s 162ms/step - loss: 0.6021 - accuracy: 0.6775 - val_loss: 0.5734 - val_accuracy: 0.7160\n",
            "Epoch 26/100\n",
            "100/100 [==============================] - 16s 163ms/step - loss: 0.5922 - accuracy: 0.6855 - val_loss: 0.5902 - val_accuracy: 0.6840\n",
            "Epoch 27/100\n",
            "100/100 [==============================] - 16s 160ms/step - loss: 0.5883 - accuracy: 0.6930 - val_loss: 0.6023 - val_accuracy: 0.6500\n",
            "Epoch 28/100\n",
            "100/100 [==============================] - 16s 161ms/step - loss: 0.6083 - accuracy: 0.6835 - val_loss: 0.5604 - val_accuracy: 0.7250\n",
            "Epoch 29/100\n",
            "100/100 [==============================] - 16s 161ms/step - loss: 0.5830 - accuracy: 0.7015 - val_loss: 0.5704 - val_accuracy: 0.6820\n",
            "Epoch 30/100\n",
            "100/100 [==============================] - 16s 162ms/step - loss: 0.5844 - accuracy: 0.6995 - val_loss: 0.5901 - val_accuracy: 0.6720\n",
            "Epoch 31/100\n",
            "100/100 [==============================] - 16s 162ms/step - loss: 0.5753 - accuracy: 0.7030 - val_loss: 0.5647 - val_accuracy: 0.7010\n",
            "Epoch 32/100\n",
            "100/100 [==============================] - 16s 161ms/step - loss: 0.5784 - accuracy: 0.6960 - val_loss: 0.5623 - val_accuracy: 0.7020\n",
            "Epoch 33/100\n",
            "100/100 [==============================] - 16s 161ms/step - loss: 0.5650 - accuracy: 0.7045 - val_loss: 0.5222 - val_accuracy: 0.7280\n",
            "Epoch 34/100\n",
            "100/100 [==============================] - 16s 161ms/step - loss: 0.5761 - accuracy: 0.7155 - val_loss: 0.5580 - val_accuracy: 0.7190\n",
            "Epoch 35/100\n",
            "100/100 [==============================] - 16s 161ms/step - loss: 0.5634 - accuracy: 0.7040 - val_loss: 0.5277 - val_accuracy: 0.7240\n",
            "Epoch 36/100\n",
            "100/100 [==============================] - 16s 163ms/step - loss: 0.5523 - accuracy: 0.7215 - val_loss: 0.5212 - val_accuracy: 0.7460\n",
            "Epoch 37/100\n",
            "100/100 [==============================] - 16s 161ms/step - loss: 0.5385 - accuracy: 0.7310 - val_loss: 0.5263 - val_accuracy: 0.7540\n",
            "Epoch 38/100\n",
            "100/100 [==============================] - 16s 162ms/step - loss: 0.5366 - accuracy: 0.7365 - val_loss: 0.5151 - val_accuracy: 0.7540\n",
            "Epoch 39/100\n",
            "100/100 [==============================] - 16s 162ms/step - loss: 0.5370 - accuracy: 0.7340 - val_loss: 0.5004 - val_accuracy: 0.7510\n",
            "Epoch 40/100\n",
            "100/100 [==============================] - 16s 161ms/step - loss: 0.5470 - accuracy: 0.7240 - val_loss: 0.5183 - val_accuracy: 0.7620\n",
            "Epoch 41/100\n",
            "100/100 [==============================] - 16s 163ms/step - loss: 0.5251 - accuracy: 0.7420 - val_loss: 0.5080 - val_accuracy: 0.7510\n",
            "Epoch 42/100\n",
            "100/100 [==============================] - 16s 161ms/step - loss: 0.5352 - accuracy: 0.7340 - val_loss: 0.4895 - val_accuracy: 0.7670\n",
            "Epoch 43/100\n",
            "100/100 [==============================] - 16s 163ms/step - loss: 0.5305 - accuracy: 0.7490 - val_loss: 0.4916 - val_accuracy: 0.7570\n",
            "Epoch 44/100\n",
            "100/100 [==============================] - 16s 162ms/step - loss: 0.5086 - accuracy: 0.7525 - val_loss: 0.5024 - val_accuracy: 0.7600\n",
            "Epoch 45/100\n",
            "100/100 [==============================] - 16s 163ms/step - loss: 0.5270 - accuracy: 0.7310 - val_loss: 0.4895 - val_accuracy: 0.7640\n",
            "Epoch 46/100\n",
            "100/100 [==============================] - 16s 162ms/step - loss: 0.5153 - accuracy: 0.7535 - val_loss: 0.4946 - val_accuracy: 0.7550\n",
            "Epoch 47/100\n",
            "100/100 [==============================] - 16s 161ms/step - loss: 0.5236 - accuracy: 0.7460 - val_loss: 0.4895 - val_accuracy: 0.7540\n",
            "Epoch 48/100\n",
            "100/100 [==============================] - 16s 161ms/step - loss: 0.5038 - accuracy: 0.7550 - val_loss: 0.5246 - val_accuracy: 0.7440\n",
            "Epoch 49/100\n",
            "100/100 [==============================] - 16s 161ms/step - loss: 0.5115 - accuracy: 0.7450 - val_loss: 0.5262 - val_accuracy: 0.7420\n",
            "Epoch 50/100\n",
            "100/100 [==============================] - 16s 162ms/step - loss: 0.5031 - accuracy: 0.7550 - val_loss: 0.4896 - val_accuracy: 0.7650\n",
            "Epoch 51/100\n",
            "100/100 [==============================] - 16s 162ms/step - loss: 0.4924 - accuracy: 0.7625 - val_loss: 0.4743 - val_accuracy: 0.7640\n",
            "Epoch 52/100\n",
            "100/100 [==============================] - 16s 161ms/step - loss: 0.4671 - accuracy: 0.7795 - val_loss: 0.4673 - val_accuracy: 0.7890\n",
            "Epoch 53/100\n",
            "100/100 [==============================] - 16s 162ms/step - loss: 0.4618 - accuracy: 0.7855 - val_loss: 0.4535 - val_accuracy: 0.7870\n",
            "Epoch 54/100\n",
            "100/100 [==============================] - 16s 163ms/step - loss: 0.4603 - accuracy: 0.7880 - val_loss: 0.5027 - val_accuracy: 0.7560\n",
            "Epoch 55/100\n",
            "100/100 [==============================] - 16s 162ms/step - loss: 0.4581 - accuracy: 0.7860 - val_loss: 0.4429 - val_accuracy: 0.7950\n",
            "Epoch 56/100\n",
            "100/100 [==============================] - 16s 162ms/step - loss: 0.4793 - accuracy: 0.7740 - val_loss: 0.4564 - val_accuracy: 0.7760\n",
            "Epoch 57/100\n",
            "100/100 [==============================] - 16s 161ms/step - loss: 0.4400 - accuracy: 0.7965 - val_loss: 0.4848 - val_accuracy: 0.7730\n",
            "Epoch 58/100\n",
            "100/100 [==============================] - 16s 161ms/step - loss: 0.4448 - accuracy: 0.7890 - val_loss: 0.4555 - val_accuracy: 0.7940\n",
            "Epoch 59/100\n",
            "100/100 [==============================] - 16s 162ms/step - loss: 0.4390 - accuracy: 0.7955 - val_loss: 0.4473 - val_accuracy: 0.7950\n",
            "Epoch 60/100\n",
            "100/100 [==============================] - 16s 161ms/step - loss: 0.4433 - accuracy: 0.7880 - val_loss: 0.4485 - val_accuracy: 0.7850\n",
            "Epoch 61/100\n",
            "100/100 [==============================] - 16s 162ms/step - loss: 0.4289 - accuracy: 0.8040 - val_loss: 0.4370 - val_accuracy: 0.7880\n",
            "Epoch 62/100\n",
            "100/100 [==============================] - 16s 162ms/step - loss: 0.4303 - accuracy: 0.8040 - val_loss: 0.4531 - val_accuracy: 0.7770\n",
            "Epoch 63/100\n",
            "100/100 [==============================] - 16s 163ms/step - loss: 0.4204 - accuracy: 0.8105 - val_loss: 0.4351 - val_accuracy: 0.7990\n",
            "Epoch 64/100\n",
            "100/100 [==============================] - 16s 163ms/step - loss: 0.4210 - accuracy: 0.8000 - val_loss: 0.4249 - val_accuracy: 0.7930\n",
            "Epoch 65/100\n",
            "100/100 [==============================] - 16s 162ms/step - loss: 0.4215 - accuracy: 0.8060 - val_loss: 0.4487 - val_accuracy: 0.7870\n",
            "Epoch 66/100\n",
            "100/100 [==============================] - 16s 161ms/step - loss: 0.4184 - accuracy: 0.8050 - val_loss: 0.4592 - val_accuracy: 0.7890\n",
            "Epoch 67/100\n",
            "100/100 [==============================] - 16s 161ms/step - loss: 0.4395 - accuracy: 0.7940 - val_loss: 0.4480 - val_accuracy: 0.7920\n",
            "Epoch 68/100\n",
            "100/100 [==============================] - 16s 162ms/step - loss: 0.3965 - accuracy: 0.8165 - val_loss: 0.4428 - val_accuracy: 0.7970\n",
            "Epoch 69/100\n",
            "100/100 [==============================] - 16s 161ms/step - loss: 0.3916 - accuracy: 0.8110 - val_loss: 0.4625 - val_accuracy: 0.8010\n",
            "Epoch 70/100\n",
            "100/100 [==============================] - 16s 163ms/step - loss: 0.4274 - accuracy: 0.8060 - val_loss: 0.4090 - val_accuracy: 0.8040\n",
            "Epoch 71/100\n",
            "100/100 [==============================] - 16s 162ms/step - loss: 0.3821 - accuracy: 0.8305 - val_loss: 0.4738 - val_accuracy: 0.7820\n",
            "Epoch 72/100\n",
            "100/100 [==============================] - 16s 162ms/step - loss: 0.3818 - accuracy: 0.8245 - val_loss: 0.4443 - val_accuracy: 0.7910\n",
            "Epoch 73/100\n",
            "100/100 [==============================] - 16s 161ms/step - loss: 0.3894 - accuracy: 0.8260 - val_loss: 0.5012 - val_accuracy: 0.7740\n",
            "Epoch 74/100\n",
            "100/100 [==============================] - 16s 161ms/step - loss: 0.3780 - accuracy: 0.8270 - val_loss: 0.4199 - val_accuracy: 0.8100\n",
            "Epoch 75/100\n",
            "100/100 [==============================] - 16s 162ms/step - loss: 0.3869 - accuracy: 0.8225 - val_loss: 0.4065 - val_accuracy: 0.8150\n",
            "Epoch 76/100\n",
            "100/100 [==============================] - 16s 161ms/step - loss: 0.3818 - accuracy: 0.8150 - val_loss: 0.4743 - val_accuracy: 0.7810\n",
            "Epoch 77/100\n",
            "100/100 [==============================] - 16s 161ms/step - loss: 0.3715 - accuracy: 0.8445 - val_loss: 0.4091 - val_accuracy: 0.8200\n",
            "Epoch 78/100\n",
            "100/100 [==============================] - 16s 161ms/step - loss: 0.3871 - accuracy: 0.8245 - val_loss: 0.4075 - val_accuracy: 0.8230\n",
            "Epoch 79/100\n",
            "100/100 [==============================] - 16s 161ms/step - loss: 0.3737 - accuracy: 0.8295 - val_loss: 0.4314 - val_accuracy: 0.7980\n",
            "Epoch 80/100\n",
            "100/100 [==============================] - 16s 163ms/step - loss: 0.3537 - accuracy: 0.8475 - val_loss: 0.5258 - val_accuracy: 0.8010\n",
            "Epoch 81/100\n",
            "100/100 [==============================] - 16s 161ms/step - loss: 0.3951 - accuracy: 0.8235 - val_loss: 0.4056 - val_accuracy: 0.8260\n",
            "Epoch 82/100\n",
            "100/100 [==============================] - 16s 162ms/step - loss: 0.3838 - accuracy: 0.8220 - val_loss: 0.4165 - val_accuracy: 0.8220\n",
            "Epoch 83/100\n",
            "100/100 [==============================] - 16s 163ms/step - loss: 0.3607 - accuracy: 0.8385 - val_loss: 0.4104 - val_accuracy: 0.8140\n",
            "Epoch 84/100\n",
            "100/100 [==============================] - 16s 161ms/step - loss: 0.3652 - accuracy: 0.8410 - val_loss: 0.3960 - val_accuracy: 0.8230\n",
            "Epoch 85/100\n",
            "100/100 [==============================] - 16s 162ms/step - loss: 0.3564 - accuracy: 0.8445 - val_loss: 0.3993 - val_accuracy: 0.8140\n",
            "Epoch 86/100\n",
            "100/100 [==============================] - 16s 161ms/step - loss: 0.3291 - accuracy: 0.8575 - val_loss: 0.4866 - val_accuracy: 0.8150\n",
            "Epoch 87/100\n",
            "100/100 [==============================] - 16s 161ms/step - loss: 0.3539 - accuracy: 0.8445 - val_loss: 0.3772 - val_accuracy: 0.8200\n",
            "Epoch 88/100\n",
            "100/100 [==============================] - 16s 162ms/step - loss: 0.3608 - accuracy: 0.8475 - val_loss: 0.4781 - val_accuracy: 0.7720\n",
            "Epoch 89/100\n",
            "100/100 [==============================] - 16s 161ms/step - loss: 0.3259 - accuracy: 0.8635 - val_loss: 0.4378 - val_accuracy: 0.8240\n",
            "Epoch 90/100\n",
            "100/100 [==============================] - 16s 162ms/step - loss: 0.3535 - accuracy: 0.8460 - val_loss: 0.4114 - val_accuracy: 0.8130\n",
            "Epoch 91/100\n",
            "100/100 [==============================] - 16s 161ms/step - loss: 0.3341 - accuracy: 0.8500 - val_loss: 0.4792 - val_accuracy: 0.8000\n",
            "Epoch 92/100\n",
            "100/100 [==============================] - 16s 160ms/step - loss: 0.3568 - accuracy: 0.8375 - val_loss: 0.3664 - val_accuracy: 0.8380\n",
            "Epoch 93/100\n",
            "100/100 [==============================] - 16s 160ms/step - loss: 0.3382 - accuracy: 0.8500 - val_loss: 0.3862 - val_accuracy: 0.8320\n",
            "Epoch 94/100\n",
            "100/100 [==============================] - 16s 160ms/step - loss: 0.3201 - accuracy: 0.8555 - val_loss: 0.3816 - val_accuracy: 0.8420\n",
            "Epoch 95/100\n",
            "100/100 [==============================] - 16s 162ms/step - loss: 0.3334 - accuracy: 0.8515 - val_loss: 0.3720 - val_accuracy: 0.8480\n",
            "Epoch 96/100\n",
            "100/100 [==============================] - 16s 161ms/step - loss: 0.3327 - accuracy: 0.8495 - val_loss: 0.5050 - val_accuracy: 0.7980\n",
            "Epoch 97/100\n",
            "100/100 [==============================] - 16s 160ms/step - loss: 0.3074 - accuracy: 0.8585 - val_loss: 0.4499 - val_accuracy: 0.8210\n",
            "Epoch 98/100\n",
            "100/100 [==============================] - 16s 161ms/step - loss: 0.3204 - accuracy: 0.8495 - val_loss: 0.3869 - val_accuracy: 0.8360\n",
            "Epoch 99/100\n",
            "100/100 [==============================] - 16s 162ms/step - loss: 0.3260 - accuracy: 0.8540 - val_loss: 0.4870 - val_accuracy: 0.8060\n",
            "Epoch 100/100\n",
            "100/100 [==============================] - 16s 162ms/step - loss: 0.3085 - accuracy: 0.8580 - val_loss: 0.3783 - val_accuracy: 0.8420\n"
          ],
          "name": "stdout"
        }
      ]
    },
    {
      "cell_type": "code",
      "metadata": {
        "id": "pefZxdSbC_q-",
        "colab_type": "code",
        "colab": {
          "base_uri": "https://localhost:8080/",
          "height": 545
        },
        "outputId": "5ae2c04b-9778-423e-c89e-b99e1d30c7c7"
      },
      "source": [
        "\n",
        "acc = history.history['accuracy']\n",
        "val_acc = history.history['val_accuracy']\n",
        "loss = history.history['loss']\n",
        "val_loss = history.history['val_loss']\n",
        "\n",
        "epochs = range(len(acc))\n",
        "\n",
        "plt.plot(epochs, acc,  label='Training accuracy')\n",
        "plt.plot(epochs, val_acc, label='Validation accuracy')\n",
        "plt.title('Training and validation accuracy')\n",
        "\n",
        "plt.figure()\n",
        "\n",
        "plt.plot(epochs, loss,  label='Training Loss')\n",
        "plt.plot(epochs, val_loss,  label='Validation Loss')\n",
        "plt.title('Training and validation loss')\n",
        "plt.legend()\n",
        "\n",
        "plt.show()"
      ],
      "execution_count": 9,
      "outputs": [
        {
          "output_type": "display_data",
          "data": {
            "image/png": "[encoded data removed]",
            "text/plain": [
              "<Figure size 432x288 with 1 Axes>"
            ]
          },
          "metadata": {
            "tags": [],
            "needs_background": "light"
          }
        },
        {
          "output_type": "display_data",
          "data": {
            "image/png": "[encoded data removed]",
            "text/plain": [
              "<Figure size 432x288 with 1 Axes>"
            ]
          },
          "metadata": {
            "tags": [],
            "needs_background": "light"
          }
        }
      ]
    },
    {
      "cell_type": "code",
      "metadata": {
        "id": "uHvEtu4jwXBY",
        "colab_type": "code",
        "colab": {}
      },
      "source": [
        ""
      ],
      "execution_count": 0,
      "outputs": []
    }
  ]
}