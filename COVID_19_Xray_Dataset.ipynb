{
  "nbformat": 4,
  "nbformat_minor": 0,
  "metadata": {
    "colab": {
      "name": "COVID-19 Xray Dataset.ipynb",
      "provenance": []
    },
    "kernelspec": {
      "name": "python3",
      "display_name": "Python 3"
    },
    "accelerator": "GPU"
  },
  "cells": [
    {
      "cell_type": "markdown",
      "metadata": {
        "id": "7ws46N4be8Hm",
        "colab_type": "text"
      },
      "source": [
        "**Kaggle setup**"
      ]
    },
    {
      "cell_type": "code",
      "metadata": {
        "id": "_p9sSOF8e3h6",
        "colab_type": "code",
        "colab": {}
      },
      "source": [
        "!pip install kaggle\n",
        "from google.colab import files\n",
        "files.upload()\n",
        "!mkdir -p ~/.kaggle\n",
        "!cp kaggle.json ~/.kaggle/\n",
        "!chmod 600 ~/.kaggle/kaggle.json"
      ],
      "execution_count": 0,
      "outputs": []
    },
    {
      "cell_type": "markdown",
      "metadata": {
        "id": "byeCzfLjfFFw",
        "colab_type": "text"
      },
      "source": [
        "**Importing all libraries**\n"
      ]
    },
    {
      "cell_type": "code",
      "metadata": {
        "id": "kftsw3HJfLUW",
        "colab_type": "code",
        "colab": {
          "base_uri": "https://localhost:8080/",
          "height": 50
        },
        "outputId": "6b31f676-e44b-44cf-c99e-056cd66e2f85"
      },
      "source": [
        "import os \n",
        "import zipfile \n",
        "import tensorflow as tf\n",
        "from tensorflow import keras\n",
        "from keras import preprocessing\n",
        "import matplotlib.pyplot as plt\n",
        "from tensorflow.keras.optimizers import RMSprop\n",
        "from tensorflow.keras.preprocessing.image import ImageDataGenerator\n",
        "print(tf.__version__)"
      ],
      "execution_count": 1,
      "outputs": [
        {
          "output_type": "stream",
          "text": [
            "2.2.0\n"
          ],
          "name": "stdout"
        },
        {
          "output_type": "stream",
          "text": [
            "Using TensorFlow backend.\n"
          ],
          "name": "stderr"
        }
      ]
    },
    {
      "cell_type": "markdown",
      "metadata": {
        "id": "0QCjHr8sfN43",
        "colab_type": "text"
      },
      "source": [
        "**Download and Unzip Dataset**"
      ]
    },
    {
      "cell_type": "code",
      "metadata": {
        "id": "CUlh_2_ufaj_",
        "colab_type": "code",
        "colab": {}
      },
      "source": [
        "!kaggle datasets download -d khoongweihao/covid19-xray-dataset-train-test-sets\n"
      ],
      "execution_count": 0,
      "outputs": []
    },
    {
      "cell_type": "code",
      "metadata": {
        "id": "e29pc9jVn87o",
        "colab_type": "code",
        "colab": {}
      },
      "source": [
        "local_dir='/content/covid19-xray-dataset-train-test-sets.zip'\n",
        "zip_ref=zipfile.ZipFile(local_dir,'r')\n",
        "zip_ref.extractall('/tmp')\n",
        "zip_ref.close"
      ],
      "execution_count": 0,
      "outputs": []
    },
    {
      "cell_type": "markdown",
      "metadata": {
        "id": "sc6qLy5iffMG",
        "colab_type": "text"
      },
      "source": [
        "**Path Setup**"
      ]
    },
    {
      "cell_type": "code",
      "metadata": {
        "id": "Jz78OScKfijn",
        "colab_type": "code",
        "colab": {}
      },
      "source": [
        "train_dir=os.path.join('/tmp/xray_dataset_covid19/train')\n",
        "validation_dir=os.path.join('/tmp/xray_dataset_covid19/test')"
      ],
      "execution_count": 0,
      "outputs": []
    },
    {
      "cell_type": "code",
      "metadata": {
        "id": "tUq2gFm0pLWO",
        "colab_type": "code",
        "colab": {}
      },
      "source": [
        "print(\"TEST\")\n",
        "print(len(os.listdir(\"/tmp/xray_dataset_covid19/test/NORMAL\")))\n",
        "print(len(os.listdir(\"/tmp/xray_dataset_covid19/test/PNEUMONIA\")))\n",
        "print(\"TRAIN\")\n",
        "print(len(os.listdir(\"/tmp/xray_dataset_covid19/train/NORMAL\")))\n",
        "print(len(os.listdir(\"/tmp/xray_dataset_covid19/train/PNEUMONIA\")))"
      ],
      "execution_count": 0,
      "outputs": []
    },
    {
      "cell_type": "markdown",
      "metadata": {
        "id": "HiYyDQ41fluY",
        "colab_type": "text"
      },
      "source": [
        "**Build the CNN model & Compile the model**"
      ]
    },
    {
      "cell_type": "code",
      "metadata": {
        "id": "cvv4P9Wufq-Q",
        "colab_type": "code",
        "colab": {
          "base_uri": "https://localhost:8080/",
          "height": 857
        },
        "outputId": "b54e1c63-38a7-45bf-a7fa-f9c1425ebdba"
      },
      "source": [
        "model=keras.models.Sequential([\n",
        "                               keras.layers.Conv2D(32,(3,3),activation='relu',padding='valid',input_shape=(1024,1024,3)),\n",
        "                               keras.layers.MaxPool2D(pool_size=(2,2)),\n",
        "                               keras.layers.Conv2D(64,(3,2),activation='relu',padding='valid'),\n",
        "                               keras.layers.MaxPool2D(pool_size=(2,2)),\n",
        "                               keras.layers.Conv2D(128,(3,3),activation='relu',padding='valid'),\n",
        "                               keras.layers.MaxPool2D(pool_size=(2,2)),\n",
        "                               keras.layers.Conv2D(256,(3,3),activation='relu',padding='valid'),\n",
        "                               keras.layers.MaxPool2D(pool_size=(2,2)),\n",
        "                               keras.layers.Conv2D(512,(3,3),activation='relu',padding='valid'),\n",
        "                               keras.layers.MaxPool2D(pool_size=(2,2)),\n",
        "                               keras.layers.Conv2D(1024,(3,3),activation='relu',padding='valid'),\n",
        "                               keras.layers.MaxPool2D(pool_size=(2,2)),\n",
        "                               keras.layers.Conv2D(2048,(3,3),activation='relu',padding='valid'),\n",
        "                               keras.layers.MaxPool2D(pool_size=(2,2)),\n",
        "\n",
        "                               \n",
        "                              \n",
        "                              \n",
        "                              \n",
        "                           \n",
        "                              tf.keras.layers.Dropout(0.5),\n",
        "                               \n",
        "                               \n",
        "                               keras.layers.Flatten(),\n",
        "                               keras.layers.Dense(units=512,activation=tf.nn.relu),\n",
        "                               \n",
        "                               keras.layers.Dense(units=256,activation=tf.nn.relu),\n",
        "                               \n",
        "                               keras.layers.Dense(units=128,activation=tf.nn.relu),\n",
        "                               \n",
        "                               keras.layers.Dense(units=64,activation=tf.nn.relu),\n",
        "                               \n",
        "                               \n",
        "                               keras.layers.Dense(units=1,activation=tf.nn.sigmoid)\n",
        "])\n",
        "\n",
        "model.compile(loss='binary_crossentropy',\n",
        "              optimizer=RMSprop(lr=1e-4),\n",
        "              metrics=['accuracy'])\n",
        "\n",
        "\n",
        "model.summary()"
      ],
      "execution_count": 3,
      "outputs": [
        {
          "output_type": "stream",
          "text": [
            "Model: \"sequential\"\n",
            "_________________________________________________________________\n",
            "Layer (type)                 Output Shape              Param #   \n",
            "=================================================================\n",
            "conv2d (Conv2D)              (None, 1022, 1022, 32)    896       \n",
            "_________________________________________________________________\n",
            "max_pooling2d (MaxPooling2D) (None, 511, 511, 32)      0         \n",
            "_________________________________________________________________\n",
            "conv2d_1 (Conv2D)            (None, 509, 510, 64)      12352     \n",
            "_________________________________________________________________\n",
            "max_pooling2d_1 (MaxPooling2 (None, 254, 255, 64)      0         \n",
            "_________________________________________________________________\n",
            "conv2d_2 (Conv2D)            (None, 252, 253, 128)     73856     \n",
            "_________________________________________________________________\n",
            "max_pooling2d_2 (MaxPooling2 (None, 126, 126, 128)     0         \n",
            "_________________________________________________________________\n",
            "conv2d_3 (Conv2D)            (None, 124, 124, 256)     295168    \n",
            "_________________________________________________________________\n",
            "max_pooling2d_3 (MaxPooling2 (None, 62, 62, 256)       0         \n",
            "_________________________________________________________________\n",
            "conv2d_4 (Conv2D)            (None, 60, 60, 512)       1180160   \n",
            "_________________________________________________________________\n",
            "max_pooling2d_4 (MaxPooling2 (None, 30, 30, 512)       0         \n",
            "_________________________________________________________________\n",
            "conv2d_5 (Conv2D)            (None, 28, 28, 1024)      4719616   \n",
            "_________________________________________________________________\n",
            "max_pooling2d_5 (MaxPooling2 (None, 14, 14, 1024)      0         \n",
            "_________________________________________________________________\n",
            "conv2d_6 (Conv2D)            (None, 12, 12, 2048)      18876416  \n",
            "_________________________________________________________________\n",
            "max_pooling2d_6 (MaxPooling2 (None, 6, 6, 2048)        0         \n",
            "_________________________________________________________________\n",
            "dropout (Dropout)            (None, 6, 6, 2048)        0         \n",
            "_________________________________________________________________\n",
            "flatten (Flatten)            (None, 73728)             0         \n",
            "_________________________________________________________________\n",
            "dense (Dense)                (None, 512)               37749248  \n",
            "_________________________________________________________________\n",
            "dense_1 (Dense)              (None, 256)               131328    \n",
            "_________________________________________________________________\n",
            "dense_2 (Dense)              (None, 128)               32896     \n",
            "_________________________________________________________________\n",
            "dense_3 (Dense)              (None, 64)                8256      \n",
            "_________________________________________________________________\n",
            "dense_4 (Dense)              (None, 1)                 65        \n",
            "=================================================================\n",
            "Total params: 63,080,257\n",
            "Trainable params: 63,080,257\n",
            "Non-trainable params: 0\n",
            "_________________________________________________________________\n"
          ],
          "name": "stdout"
        }
      ]
    },
    {
      "cell_type": "markdown",
      "metadata": {
        "id": "LQWD-Sr2f0uf",
        "colab_type": "text"
      },
      "source": [
        "**image preprocessing**"
      ]
    },
    {
      "cell_type": "code",
      "metadata": {
        "id": "WWECbBg-f2O_",
        "colab_type": "code",
        "colab": {
          "base_uri": "https://localhost:8080/",
          "height": 50
        },
        "outputId": "68a9f1a0-38a4-4f15-99ae-055b460edfed"
      },
      "source": [
        "train_data_generator=ImageDataGenerator(\n",
        "      rescale=1./255,\n",
        "     \n",
        "      shear_range=0.2,\n",
        "      zoom_range=0.3,\n",
        "     \n",
        "      fill_mode='nearest')\n",
        "validation_data_generator=ImageDataGenerator(\n",
        "     rescale=1./255\n",
        ")\n",
        "train_generator = train_data_generator.flow_from_directory(train_dir,\n",
        "                                                    batch_size=8,\n",
        "                                                    class_mode='binary',\n",
        "                                                    target_size=(1024,1024)) \n",
        "validation_generator =validation_data_generator.flow_from_directory(validation_dir,\n",
        "                                                         batch_size=5,\n",
        "                                                         class_mode  = 'binary',\n",
        "                                                         target_size = (1024,1024))"
      ],
      "execution_count": 4,
      "outputs": [
        {
          "output_type": "stream",
          "text": [
            "Found 148 images belonging to 2 classes.\n",
            "Found 40 images belonging to 2 classes.\n"
          ],
          "name": "stdout"
        }
      ]
    },
    {
      "cell_type": "markdown",
      "metadata": {
        "id": "20hMDj6xf9W_",
        "colab_type": "text"
      },
      "source": [
        "**Fit the model on images**"
      ]
    },
    {
      "cell_type": "code",
      "metadata": {
        "id": "6RjBgYwfgAQh",
        "colab_type": "code",
        "colab": {
          "base_uri": "https://localhost:8080/",
          "height": 857
        },
        "outputId": "d16a69de-6168-4d36-eb1c-fce4e5befbc2"
      },
      "source": [
        "history = model.fit(train_generator,\n",
        "                              validation_data=validation_generator,\n",
        "                              steps_per_epoch=18,\n",
        "                              epochs=25,\n",
        "                              validation_steps=8,\n",
        "                              verbose=1)"
      ],
      "execution_count": 5,
      "outputs": [
        {
          "output_type": "stream",
          "text": [
            "Epoch 1/25\n",
            "18/18 [==============================] - 42s 2s/step - loss: 0.7308 - accuracy: 0.4786 - val_loss: 0.6921 - val_accuracy: 0.5000\n",
            "Epoch 2/25\n",
            "18/18 [==============================] - 40s 2s/step - loss: 0.6977 - accuracy: 0.5000 - val_loss: 0.6897 - val_accuracy: 0.5000\n",
            "Epoch 3/25\n",
            "18/18 [==============================] - 39s 2s/step - loss: 0.6826 - accuracy: 0.5143 - val_loss: 0.6123 - val_accuracy: 0.9000\n",
            "Epoch 4/25\n",
            "18/18 [==============================] - 40s 2s/step - loss: 0.6160 - accuracy: 0.6714 - val_loss: 0.3516 - val_accuracy: 0.9500\n",
            "Epoch 5/25\n",
            "18/18 [==============================] - 41s 2s/step - loss: 0.5241 - accuracy: 0.7429 - val_loss: 0.2857 - val_accuracy: 1.0000\n",
            "Epoch 6/25\n",
            "18/18 [==============================] - 40s 2s/step - loss: 0.4083 - accuracy: 0.7857 - val_loss: 0.2142 - val_accuracy: 0.9250\n",
            "Epoch 7/25\n",
            "18/18 [==============================] - 40s 2s/step - loss: 0.5011 - accuracy: 0.7929 - val_loss: 0.6205 - val_accuracy: 0.7250\n",
            "Epoch 8/25\n",
            "18/18 [==============================] - 41s 2s/step - loss: 0.4358 - accuracy: 0.8125 - val_loss: 0.1147 - val_accuracy: 0.9750\n",
            "Epoch 9/25\n",
            "18/18 [==============================] - 40s 2s/step - loss: 0.3808 - accuracy: 0.8643 - val_loss: 0.0661 - val_accuracy: 1.0000\n",
            "Epoch 10/25\n",
            "18/18 [==============================] - 40s 2s/step - loss: 0.2813 - accuracy: 0.8786 - val_loss: 0.5783 - val_accuracy: 0.7250\n",
            "Epoch 11/25\n",
            "18/18 [==============================] - 41s 2s/step - loss: 0.3163 - accuracy: 0.8643 - val_loss: 0.0983 - val_accuracy: 0.9750\n",
            "Epoch 12/25\n",
            "18/18 [==============================] - 41s 2s/step - loss: 0.3004 - accuracy: 0.8500 - val_loss: 0.0326 - val_accuracy: 1.0000\n",
            "Epoch 13/25\n",
            "18/18 [==============================] - 41s 2s/step - loss: 0.3639 - accuracy: 0.8786 - val_loss: 0.1108 - val_accuracy: 0.9500\n",
            "Epoch 14/25\n",
            "18/18 [==============================] - 41s 2s/step - loss: 0.2125 - accuracy: 0.9357 - val_loss: 0.1252 - val_accuracy: 0.9750\n",
            "Epoch 15/25\n",
            "18/18 [==============================] - 41s 2s/step - loss: 0.2907 - accuracy: 0.9000 - val_loss: 0.0478 - val_accuracy: 0.9750\n",
            "Epoch 16/25\n",
            "18/18 [==============================] - 42s 2s/step - loss: 0.1902 - accuracy: 0.9143 - val_loss: 0.0796 - val_accuracy: 0.9750\n",
            "Epoch 17/25\n",
            "18/18 [==============================] - 41s 2s/step - loss: 0.2110 - accuracy: 0.9357 - val_loss: 0.0668 - val_accuracy: 0.9750\n",
            "Epoch 18/25\n",
            "18/18 [==============================] - 41s 2s/step - loss: 0.2605 - accuracy: 0.9143 - val_loss: 0.0634 - val_accuracy: 0.9750\n",
            "Epoch 19/25\n",
            "18/18 [==============================] - 40s 2s/step - loss: 0.2301 - accuracy: 0.9071 - val_loss: 0.0178 - val_accuracy: 1.0000\n",
            "Epoch 20/25\n",
            "18/18 [==============================] - 41s 2s/step - loss: 0.1464 - accuracy: 0.9500 - val_loss: 0.1231 - val_accuracy: 0.9750\n",
            "Epoch 21/25\n",
            "18/18 [==============================] - 42s 2s/step - loss: 0.2765 - accuracy: 0.9071 - val_loss: 0.0658 - val_accuracy: 0.9750\n",
            "Epoch 22/25\n",
            "18/18 [==============================] - 42s 2s/step - loss: 0.2865 - accuracy: 0.9071 - val_loss: 0.0868 - val_accuracy: 0.9750\n",
            "Epoch 23/25\n",
            "18/18 [==============================] - 41s 2s/step - loss: 0.1489 - accuracy: 0.9500 - val_loss: 0.0523 - val_accuracy: 1.0000\n",
            "Epoch 24/25\n",
            "18/18 [==============================] - 40s 2s/step - loss: 0.1642 - accuracy: 0.9500 - val_loss: 0.0119 - val_accuracy: 1.0000\n",
            "Epoch 25/25\n",
            "18/18 [==============================] - 40s 2s/step - loss: 0.2299 - accuracy: 0.9143 - val_loss: 0.1076 - val_accuracy: 0.9500\n"
          ],
          "name": "stdout"
        }
      ]
    },
    {
      "cell_type": "markdown",
      "metadata": {
        "id": "0ElfiVhOgHzX",
        "colab_type": "text"
      },
      "source": [
        "**Training and validation accuracy & loss**"
      ]
    },
    {
      "cell_type": "code",
      "metadata": {
        "id": "jYb6vJ9AgJan",
        "colab_type": "code",
        "colab": {
          "base_uri": "https://localhost:8080/",
          "height": 545
        },
        "outputId": "4183679f-bbec-4e52-e595-c407ab2c632d"
      },
      "source": [
        "acc = history.history['accuracy']\n",
        "val_acc = history.history['val_accuracy']\n",
        "loss = history.history['loss']\n",
        "val_loss = history.history['val_loss']\n",
        "\n",
        "epochs = range(len(acc))\n",
        "\n",
        "plt.plot(epochs, acc,  label='Training accuracy')\n",
        "plt.plot(epochs, val_acc, label='Validation accuracy')\n",
        "plt.title('Training and validation accuracy')\n",
        "\n",
        "plt.figure()\n",
        "\n",
        "plt.plot(epochs, loss,  label='Training Loss')\n",
        "plt.plot(epochs, val_loss,  label='Validation Loss')\n",
        "plt.title('Training and validation loss')\n",
        "plt.legend()\n",
        "\n",
        "plt.show()"
      ],
      "execution_count": 6,
      "outputs": [
        {
          "output_type": "display_data",
          "data": {
            "image/png": "[encoded data removed]",
            "text/plain": [
              "<Figure size 432x288 with 1 Axes>"
            ]
          },
          "metadata": {
            "tags": [],
            "needs_background": "light"
          }
        },
        {
          "output_type": "display_data",
          "data": {
            "image/png": "[encoded data removed]",
            "text/plain": [
              "<Figure size 432x288 with 1 Axes>"
            ]
          },
          "metadata": {
            "tags": [],
            "needs_background": "light"
          }
        }
      ]
    },
    {
      "cell_type": "code",
      "metadata": {
        "id": "woXHOzWatWhu",
        "colab_type": "code",
        "colab": {}
      },
      "source": [
        ""
      ],
      "execution_count": 0,
      "outputs": []
    }
  ]
}