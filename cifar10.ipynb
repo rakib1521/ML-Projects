{
  "nbformat": 4,
  "nbformat_minor": 0,
  "metadata": {
    "colab": {
      "name": "cifar10 With CNN 2.ipynb",
      "provenance": []
    },
    "kernelspec": {
      "name": "python3",
      "display_name": "Python 3"
    },
    "accelerator": "GPU"
  },
  "cells": [
    {
      "cell_type": "code",
      "metadata": {
        "id": "bkYbDFA87i0G",
        "colab_type": "code",
        "colab": {
          "base_uri": "https://localhost:8080/",
          "height": 34
        },
        "outputId": "8ddbb64e-3e2b-48e0-fdca-3a97a6fb9375"
      },
      "source": [
        "import tensorflow as tf \n",
        "from tensorflow import keras\n",
        "import matplotlib.pyplot as plt \n",
        "import numpy as np\n",
        "import os\n",
        "import cv2\n",
        "print(tf.__version__)"
      ],
      "execution_count": 1,
      "outputs": [
        {
          "output_type": "stream",
          "text": [
            "2.2.0\n"
          ],
          "name": "stdout"
        }
      ]
    },
    {
      "cell_type": "code",
      "metadata": {
        "id": "Red133Ey7ouo",
        "colab_type": "code",
        "colab": {
          "base_uri": "https://localhost:8080/",
          "height": 51
        },
        "outputId": "9a8807b7-cd48-4980-a9fb-465a8e4ef11f"
      },
      "source": [
        "dataset=keras.datasets.cifar10\n",
        "(train_data,train_label),(test_data,test_label)=dataset.load_data()\n",
        "print(len(train_data))\n",
        "print(len(test_data))"
      ],
      "execution_count": 2,
      "outputs": [
        {
          "output_type": "stream",
          "text": [
            "50000\n",
            "10000\n"
          ],
          "name": "stdout"
        }
      ]
    },
    {
      "cell_type": "code",
      "metadata": {
        "id": "vuNS87Ty7tu0",
        "colab_type": "code",
        "colab": {
          "base_uri": "https://localhost:8080/",
          "height": 595
        },
        "outputId": "4c9cd6bd-7939-44ac-a2b0-a74b94a8707f"
      },
      "source": [
        "train_data=train_data.reshape(50000, 32, 32, 3)\n",
        "train_data=train_data / 255.0\n",
        "test_data = test_data.reshape(10000, 32, 32, 3)\n",
        "test_data=test_data/255.0\n",
        "\n",
        "model=keras.models.Sequential([\n",
        "                               keras.layers.Conv2D(8,(3,3),activation='relu',padding='same',input_shape=(32,32,3)),\n",
        "                               keras.layers.Conv2D(16,(3,3),activation='relu',padding='same'),\n",
        "                               keras.layers.Conv2D(32,(3,3),activation='relu',padding='same'),\n",
        "                               keras.layers.Conv2D(64,(3,3),activation='relu',padding='same'),\n",
        "                               keras.layers.Conv2D(128,(3,3),activation='relu',padding='same'),\n",
        "                              \n",
        "                               keras.layers.MaxPool2D(pool_size=(2,2)),\n",
        "                               keras.layers.Conv2D(256,(3,3),padding='valid',activation='relu'),\n",
        "                               keras.layers.MaxPool2D(pool_size=(2,2)),\n",
        "                               keras.layers.Conv2D(512,(3,3),padding='valid',activation='relu'),\n",
        "                               keras.layers.MaxPool2D(pool_size=(2,2)),\n",
        "                              \n",
        "                               \n",
        "                               \n",
        "                               keras.layers.Flatten(),\n",
        "                               keras.layers.Dense(units=128,activation=tf.nn.relu),\n",
        "                               \n",
        "                               \n",
        "                               keras.layers.Dense(units=10,activation=tf.nn.softmax)\n",
        "])\n",
        "\n",
        "model.compile(optimizer = tf.optimizers.Adam(),\n",
        "              loss = 'sparse_categorical_crossentropy',\n",
        "              metrics=['accuracy'])\n",
        "\n",
        "model.summary()"
      ],
      "execution_count": 3,
      "outputs": [
        {
          "output_type": "stream",
          "text": [
            "Model: \"sequential\"\n",
            "_________________________________________________________________\n",
            "Layer (type)                 Output Shape              Param #   \n",
            "=================================================================\n",
            "conv2d (Conv2D)              (None, 32, 32, 8)         224       \n",
            "_________________________________________________________________\n",
            "conv2d_1 (Conv2D)            (None, 32, 32, 16)        1168      \n",
            "_________________________________________________________________\n",
            "conv2d_2 (Conv2D)            (None, 32, 32, 32)        4640      \n",
            "_________________________________________________________________\n",
            "conv2d_3 (Conv2D)            (None, 32, 32, 64)        18496     \n",
            "_________________________________________________________________\n",
            "conv2d_4 (Conv2D)            (None, 32, 32, 128)       73856     \n",
            "_________________________________________________________________\n",
            "max_pooling2d (MaxPooling2D) (None, 16, 16, 128)       0         \n",
            "_________________________________________________________________\n",
            "conv2d_5 (Conv2D)            (None, 14, 14, 256)       295168    \n",
            "_________________________________________________________________\n",
            "max_pooling2d_1 (MaxPooling2 (None, 7, 7, 256)         0         \n",
            "_________________________________________________________________\n",
            "conv2d_6 (Conv2D)            (None, 5, 5, 512)         1180160   \n",
            "_________________________________________________________________\n",
            "max_pooling2d_2 (MaxPooling2 (None, 2, 2, 512)         0         \n",
            "_________________________________________________________________\n",
            "flatten (Flatten)            (None, 2048)              0         \n",
            "_________________________________________________________________\n",
            "dense (Dense)                (None, 128)               262272    \n",
            "_________________________________________________________________\n",
            "dense_1 (Dense)              (None, 10)                1290      \n",
            "=================================================================\n",
            "Total params: 1,837,274\n",
            "Trainable params: 1,837,274\n",
            "Non-trainable params: 0\n",
            "_________________________________________________________________\n"
          ],
          "name": "stdout"
        }
      ]
    },
    {
      "cell_type": "code",
      "metadata": {
        "id": "nByWgyfU7vhu",
        "colab_type": "code",
        "colab": {
          "base_uri": "https://localhost:8080/",
          "height": 697
        },
        "outputId": "48d08ad1-36e2-4e95-f0ee-980c6157ac43"
      },
      "source": [
        "history=model.fit(train_data,train_label,epochs=20)\n"
      ],
      "execution_count": 4,
      "outputs": [
        {
          "output_type": "stream",
          "text": [
            "Epoch 1/20\n",
            "1563/1563 [==============================] - 25s 16ms/step - loss: 1.6085 - accuracy: 0.4063\n",
            "Epoch 2/20\n",
            "1563/1563 [==============================] - 24s 15ms/step - loss: 1.0436 - accuracy: 0.6320\n",
            "Epoch 3/20\n",
            "1563/1563 [==============================] - 24s 16ms/step - loss: 0.8066 - accuracy: 0.7188\n",
            "Epoch 4/20\n",
            "1563/1563 [==============================] - 24s 16ms/step - loss: 0.6598 - accuracy: 0.7712\n",
            "Epoch 5/20\n",
            "1563/1563 [==============================] - 24s 16ms/step - loss: 0.5483 - accuracy: 0.8086\n",
            "Epoch 6/20\n",
            "1563/1563 [==============================] - 24s 16ms/step - loss: 0.4575 - accuracy: 0.8395\n",
            "Epoch 7/20\n",
            "1563/1563 [==============================] - 24s 16ms/step - loss: 0.3693 - accuracy: 0.8714\n",
            "Epoch 8/20\n",
            "1563/1563 [==============================] - 24s 16ms/step - loss: 0.3005 - accuracy: 0.8934\n",
            "Epoch 9/20\n",
            "1563/1563 [==============================] - 24s 16ms/step - loss: 0.2608 - accuracy: 0.9078\n",
            "Epoch 10/20\n",
            "1563/1563 [==============================] - 24s 16ms/step - loss: 0.2248 - accuracy: 0.9201\n",
            "Epoch 11/20\n",
            "1563/1563 [==============================] - 24s 15ms/step - loss: 0.1903 - accuracy: 0.9330\n",
            "Epoch 12/20\n",
            "1563/1563 [==============================] - 24s 16ms/step - loss: 0.1683 - accuracy: 0.9411\n",
            "Epoch 13/20\n",
            "1563/1563 [==============================] - 24s 15ms/step - loss: 0.1563 - accuracy: 0.9448\n",
            "Epoch 14/20\n",
            "1563/1563 [==============================] - 24s 15ms/step - loss: 0.1444 - accuracy: 0.9505\n",
            "Epoch 15/20\n",
            "1563/1563 [==============================] - 24s 16ms/step - loss: 0.1364 - accuracy: 0.9531\n",
            "Epoch 16/20\n",
            "1563/1563 [==============================] - 24s 16ms/step - loss: 0.1271 - accuracy: 0.9570\n",
            "Epoch 17/20\n",
            "1563/1563 [==============================] - 24s 15ms/step - loss: 0.1218 - accuracy: 0.9574\n",
            "Epoch 18/20\n",
            "1563/1563 [==============================] - 24s 15ms/step - loss: 0.1173 - accuracy: 0.9610\n",
            "Epoch 19/20\n",
            "1563/1563 [==============================] - 24s 15ms/step - loss: 0.1106 - accuracy: 0.9612\n",
            "Epoch 20/20\n",
            "1563/1563 [==============================] - 24s 15ms/step - loss: 0.1060 - accuracy: 0.9644\n"
          ],
          "name": "stdout"
        }
      ]
    },
    {
      "cell_type": "code",
      "metadata": {
        "id": "QEauHWT-7xz8",
        "colab_type": "code",
        "colab": {
          "base_uri": "https://localhost:8080/",
          "height": 282
        },
        "outputId": "2a16f3e7-d873-4b74-fd07-2a765c4b3d80"
      },
      "source": [
        "plt.plot(history.history['accuracy'])"
      ],
      "execution_count": 5,
      "outputs": [
        {
          "output_type": "execute_result",
          "data": {
            "text/plain": [
              "[<matplotlib.lines.Line2D at 0x7fcbd641cf28>]"
            ]
          },
          "metadata": {
            "tags": []
          },
          "execution_count": 5
        },
        {
          "output_type": "display_data",
          "data": {
            "image/png": "[encoded data removed]",
            "text/plain": [
              "<Figure size 432x288 with 1 Axes>"
            ]
          },
          "metadata": {
            "tags": [],
            "needs_background": "light"
          }
        }
      ]
    },
    {
      "cell_type": "code",
      "metadata": {
        "id": "1jJfIAU67yZ0",
        "colab_type": "code",
        "colab": {
          "base_uri": "https://localhost:8080/",
          "height": 282
        },
        "outputId": "a4ff8a11-c1c7-43be-a4c0-a07a2d120c5f"
      },
      "source": [
        "plt.plot(history.history['loss'])"
      ],
      "execution_count": 6,
      "outputs": [
        {
          "output_type": "execute_result",
          "data": {
            "text/plain": [
              "[<matplotlib.lines.Line2D at 0x7fcbd63baf60>]"
            ]
          },
          "metadata": {
            "tags": []
          },
          "execution_count": 6
        },
        {
          "output_type": "display_data",
          "data": {
            "image/png": "[encoded data removed]",
            "text/plain": [
              "<Figure size 432x288 with 1 Axes>"
            ]
          },
          "metadata": {
            "tags": [],
            "needs_background": "light"
          }
        }
      ]
    },
    {
      "cell_type": "code",
      "metadata": {
        "id": "CwAb1rRm71HV",
        "colab_type": "code",
        "colab": {
          "base_uri": "https://localhost:8080/",
          "height": 34
        },
        "outputId": "e274b0a1-8a2d-4d5d-fd12-d5d8aab85060"
      },
      "source": [
        "test_loss, test_acc=model.evaluate(test_data, test_label)"
      ],
      "execution_count": 7,
      "outputs": [
        {
          "output_type": "stream",
          "text": [
            "313/313 [==============================] - 2s 6ms/step - loss: 1.3470 - accuracy: 0.7440\n"
          ],
          "name": "stdout"
        }
      ]
    },
    {
      "cell_type": "code",
      "metadata": {
        "id": "78cy9x3bBEYh",
        "colab_type": "code",
        "colab": {}
      },
      "source": [
        ""
      ],
      "execution_count": 0,
      "outputs": []
    }
  ]
}